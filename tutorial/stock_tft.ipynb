{
 "cells": [
  {
   "cell_type": "markdown",
   "metadata": {},
   "source": [
    "## Login Shioaji."
   ]
  },
  {
   "cell_type": "code",
   "execution_count": 13,
   "metadata": {},
   "outputs": [
    {
     "name": "stdout",
     "output_type": "stream",
     "text": [
      "Response Code: 0 | Event Code: 0 | Info: host '203.66.91.161:80', IP 203.66.91.161:80 (host 1 of 1) (host connection attempt 1 of 1) (total connection attempt 1 of 1) | Event: Session up\n"
     ]
    }
   ],
   "source": [
    "import shioaji as sj\n",
    "api = sj.Shioaji()\n",
    "api.tft = True"
   ]
  },
  {
   "cell_type": "code",
   "execution_count": 14,
   "metadata": {},
   "outputs": [
    {
     "data": {
      "text/plain": [
       "[FutureAccount(person_id=SecretStr('**********'), broker_id=SecretStr('**********'), account_id=SecretStr('**********'), signed=True, username=SecretStr('**********')),\n",
       " Account(account_type=<AccountType.H: 'H'>, person_id=SecretStr('**********'), broker_id=SecretStr('**********'), account_id=SecretStr('**********'), signed=True, username=SecretStr('**********')),\n",
       " StockAccount(person_id=SecretStr('**********'), broker_id=SecretStr('**********'), account_id=SecretStr('**********'), signed=True, username=SecretStr('**********'))]"
      ]
     },
     "execution_count": 14,
     "metadata": {},
     "output_type": "execute_result"
    }
   ],
   "source": [
    "accounts = api.login(\"YOUR_PERSON_ID\", \"YOUR_PASSWORD\")\n",
    "accounts"
   ]
  },
  {
   "cell_type": "code",
   "execution_count": 15,
   "metadata": {},
   "outputs": [
    {
     "name": "stdout",
     "output_type": "stream",
     "text": [
      "Ca Initial Done.\n"
     ]
    },
    {
     "data": {
      "text/plain": [
       "0"
      ]
     },
     "execution_count": 15,
     "metadata": {},
     "output_type": "execute_result"
    }
   ],
   "source": [
    "api.activate_ca(\n",
    "    ca_path=\"/c/your/ca/path/Sinopac.pfx\",\n",
    "    ca_passwd=\"YOUR_PASSWORD\",\n",
    "    person_id=\"Person of this Ca\",\n",
    ")"
   ]
  },
  {
   "cell_type": "markdown",
   "metadata": {},
   "source": [
    "## Get Contract Object."
   ]
  },
  {
   "cell_type": "code",
   "execution_count": 18,
   "metadata": {},
   "outputs": [
    {
     "data": {
      "text/plain": [
       "Stock(exchange=<Exchange.TSE: 'TSE'>, code='2890', symbol='TSE2890', name='永豐金', category='17', day_trade='OnlyBuy')"
      ]
     },
     "execution_count": 18,
     "metadata": {},
     "output_type": "execute_result"
    }
   ],
   "source": [
    "contract = api.Contracts.Stocks.TSE.TSE2890\n",
    "contract"
   ]
  },
  {
   "cell_type": "markdown",
   "metadata": {},
   "source": [
    "## Making Order Object.\n",
    "### Buy"
   ]
  },
  {
   "cell_type": "code",
   "execution_count": 64,
   "metadata": {},
   "outputs": [
    {
     "data": {
      "text/plain": [
       "Order(action=<Action.Buy: 'Buy'>, price=12, quantity=3, account=StockAccount(person_id=SecretStr('**********'), broker_id=SecretStr('**********'), account_id=SecretStr('**********'), signed=True, username=SecretStr('**********')), price_type=<StockPriceType.LMT: 'LMT'>, order_type=<FuturesOrderType.ROD: 'ROD'>)"
      ]
     },
     "execution_count": 64,
     "metadata": {},
     "output_type": "execute_result"
    }
   ],
   "source": [
    "order = api.Order(\n",
    "            price=12, \n",
    "            quantity=3, \n",
    "            action=\"Buy\", \n",
    "            price_type=\"LMT\", \n",
    "            order_type=\"ROD\", \n",
    "            order_lot=\"Common\", \n",
    "            account=api.stock_account\n",
    "        )\n",
    "order"
   ]
  },
  {
   "cell_type": "markdown",
   "metadata": {},
   "source": [
    "### Sell"
   ]
  },
  {
   "cell_type": "code",
   "execution_count": 62,
   "metadata": {},
   "outputs": [
    {
     "data": {
      "text/plain": [
       "Order(action=<Action.Sell: 'Sell'>, price=12, quantity=1, account=StockAccount(person_id=SecretStr('**********'), broker_id=SecretStr('**********'), account_id=SecretStr('**********'), signed=True, username=SecretStr('**********')), price_type=<StockPriceType.LMT: 'LMT'>, order_type=<FuturesOrderType.ROD: 'ROD'>)"
      ]
     },
     "execution_count": 62,
     "metadata": {},
     "output_type": "execute_result"
    }
   ],
   "source": [
    "order = api.Order(\n",
    "            price=12, \n",
    "            quantity=1, \n",
    "            action=\"Sell\", \n",
    "            price_type=\"LMT\", \n",
    "            order_type=\"ROD\", \n",
    "            order_lot=\"Common\", \n",
    "            account=api.stock_account\n",
    "        )\n",
    "order"
   ]
  },
  {
   "cell_type": "markdown",
   "metadata": {},
   "source": [
    "### First Sell"
   ]
  },
  {
   "cell_type": "code",
   "execution_count": 21,
   "metadata": {},
   "outputs": [
    {
     "data": {
      "text/plain": [
       "Order(action=<Action.Sell: 'Sell'>, price=12, quantity=1, account=StockAccount(person_id=SecretStr('**********'), broker_id=SecretStr('**********'), account_id=SecretStr('**********'), signed=True, username=SecretStr('**********')), price_type=<StockPriceType.LMT: 'LMT'>, order_type=<FuturesOrderType.ROD: 'ROD'>, first_sell=<StockFirstSell.Yes: 'true'>)"
      ]
     },
     "execution_count": 21,
     "metadata": {},
     "output_type": "execute_result"
    }
   ],
   "source": [
    "order = api.Order(\n",
    "            price=12, \n",
    "            quantity=1, \n",
    "            action=\"Sell\",\n",
    "            price_type=\"LMT\",\n",
    "            order_type=\"ROD\",\n",
    "            order_lot=\"Common\",\n",
    "            first_sell=\"true\",\n",
    "            account=api.stock_account\n",
    "        )\n",
    "order"
   ]
  },
  {
   "cell_type": "markdown",
   "metadata": {},
   "source": [
    "## Place Order"
   ]
  },
  {
   "cell_type": "code",
   "execution_count": null,
   "metadata": {},
   "outputs": [],
   "source": [
    "trade = api.place_order(contract, order)"
   ]
  },
  {
   "cell_type": "code",
   "execution_count": null,
   "metadata": {},
   "outputs": [],
   "source": [
    "trade"
   ]
  },
  {
   "cell_type": "markdown",
   "metadata": {},
   "source": [
    "## Example For\n",
    "### Place Order ROD LMT"
   ]
  },
  {
   "cell_type": "code",
   "execution_count": null,
   "metadata": {},
   "outputs": [],
   "source": [
    "import shioaji as sj\n",
    "\n",
    "api = sj.Shioaji()\n",
    "accounts = api.login(\"YOUR_PERSON_ID\", \"YOUR_PASSWORD\", contracts_timeout=10000)\n",
    "api.activate_ca(\n",
    "    ca_path=\"/c/your/ca/path/Sinopac.pfx\",\n",
    "    ca_passwd=\"YOUR_CA_PASSWORD\",\n",
    "    person_id=\"Person of this Ca\",\n",
    ")\n",
    "api.tft = True\n",
    "\n",
    "contract = api.Contracts.Stocks.TSE.TSE2890\n",
    "order = api.Order(\n",
    "            price=12,\n",
    "            quantity=10,\n",
    "            action=\"Buy\",\n",
    "            price_type=\"LMT\",\n",
    "            order_type=\"ROD\",\n",
    "            account=api.stock_account\n",
    "        )\n",
    "trade = api.place_order(contract, order)"
   ]
  },
  {
   "cell_type": "code",
   "execution_count": null,
   "metadata": {},
   "outputs": [],
   "source": [
    "trade"
   ]
  },
  {
   "cell_type": "markdown",
   "metadata": {},
   "source": [
    "### Place Order about First Sell"
   ]
  },
  {
   "cell_type": "code",
   "execution_count": null,
   "metadata": {},
   "outputs": [],
   "source": [
    "import shioaji as sj\n",
    "\n",
    "api = sj.Shioaji()\n",
    "accounts = api.login(\"YOUR_PERSON_ID\", \"YOUR_PASSWORD\", contracts_timeout=10000)\n",
    "api.activate_ca(\n",
    "    ca_path=\"/c/your/ca/path/Sinopac.pfx\",\n",
    "    ca_passwd=\"YOUR_CA_PASSWORD\",\n",
    "    person_id=\"Person of this Ca\",\n",
    ")\n",
    "api.tft = True\n",
    "\n",
    "contract = api.Contracts.Stocks.TSE.TSE2890\n",
    "order = api.Order(price=12.2,\n",
    "                  quantity=1,\n",
    "                  action=\"Sell\",\n",
    "                  price_type=\"LMT\",\n",
    "                  order_type=\"ROD\",\n",
    "                  first_sell=\"true\",\n",
    "                  account=api.stock_account\n",
    "                  )\n",
    "trade = api.place_order(contract, order)"
   ]
  },
  {
   "cell_type": "code",
   "execution_count": null,
   "metadata": {},
   "outputs": [],
   "source": [
    "trade"
   ]
  },
  {
   "cell_type": "markdown",
   "metadata": {},
   "source": [
    "### Cancel Order"
   ]
  },
  {
   "cell_type": "code",
   "execution_count": null,
   "metadata": {},
   "outputs": [],
   "source": [
    "api.update_status(api.stock_account)\n",
    "api.cancel_order(trade)\n",
    "api.update_status(api.stock_account)"
   ]
  },
  {
   "cell_type": "code",
   "execution_count": null,
   "metadata": {},
   "outputs": [],
   "source": [
    "trade"
   ]
  },
  {
   "cell_type": "markdown",
   "metadata": {},
   "source": [
    "### Update Order"
   ]
  },
  {
   "cell_type": "code",
   "execution_count": null,
   "metadata": {},
   "outputs": [],
   "source": [
    "api.update_status(api.stock_account)\n",
    "api.update_order(trade=trade, price=12, qty=2)\n",
    "api.update_status(api.stock_account)"
   ]
  },
  {
   "cell_type": "code",
   "execution_count": null,
   "metadata": {},
   "outputs": [],
   "source": [
    "trade"
   ]
  }
 ],
 "metadata": {
  "file_extension": ".py",
  "kernelspec": {
   "display_name": "Python 3.7.0 64-bit ('base': conda)",
   "language": "python",
   "name": "python37064bitbaseconda95fb4fb9cd7e40e6997e19823a541114"
  },
  "language_info": {
   "codemirror_mode": {
    "name": "ipython",
    "version": 3
   },
   "file_extension": ".py",
   "mimetype": "text/x-python",
   "name": "python",
   "nbconvert_exporter": "python",
   "pygments_lexer": "ipython3",
   "version": "3.7.0"
  },
  "mimetype": "text/x-python",
  "name": "python",
  "npconvert_exporter": "python",
  "pygments_lexer": "ipython3",
  "version": 3
 },
 "nbformat": 4,
 "nbformat_minor": 4
}
