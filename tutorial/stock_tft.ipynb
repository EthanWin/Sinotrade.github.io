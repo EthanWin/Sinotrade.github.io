{
 "nbformat": 4,
 "nbformat_minor": 2,
 "metadata": {
  "language_info": {
   "name": "python",
   "codemirror_mode": {
    "name": "ipython",
    "version": 3
   },
   "version": "3.7.0-final"
  },
  "orig_nbformat": 2,
  "file_extension": ".py",
  "mimetype": "text/x-python",
  "name": "python",
  "npconvert_exporter": "python",
  "pygments_lexer": "ipython3",
  "version": 3,
  "kernelspec": {
   "name": "python37064bitbaseconda95fb4fb9cd7e40e6997e19823a541114",
   "display_name": "Python 3.7.0 64-bit ('base': conda)"
  }
 },
 "cells": [
  {
   "cell_type": "markdown",
   "metadata": {},
   "source": [
    "## Login Shioaji."
   ]
  },
  {
   "cell_type": "code",
   "execution_count": 6,
   "metadata": {},
   "outputs": [
    {
     "name": "stdout",
     "output_type": "stream",
     "text": "Response Code: 0 | Event Code: 0 | Info: host '203.66.91.161:80', IP 203.66.91.161:80 (host 1 of 1) (host connection attempt 1 of 1) (total connection attempt 1 of 1) | Event: Session up\n"
    }
   ],
   "source": [
    "import shioaji as sj\n",
    "api = sj.Shioaji()\n",
    "api.tft = True"
   ]
  },
  {
   "cell_type": "code",
   "execution_count": 9,
   "metadata": {},
   "outputs": [
    {
     "name": "stdout",
     "output_type": "stream",
     "text": "Ca Initial Done.\n"
    },
    {
     "data": {
      "text/plain": "0"
     },
     "execution_count": 9,
     "metadata": {},
     "output_type": "execute_result"
    }
   ],
   "source": [
    "accounts = api.login(\"YOUR_PERSON_ID\", \"YOUR_PASSWORD\")\n",
    "api.activate_ca(\n",
    "    ca_path=\"/c/your/ca/path/Sinopac.pfx\",\n",
    "    ca_passwd=\"YOUR_CA_PASSWORD\",\n",
    "    person_id=\"Person of this Ca\",\n",
    ")"
   ]
  },
  {
   "cell_type": "markdown",
   "metadata": {},
   "source": [
    "## Get Contract Object."
   ]
  },
  {
   "cell_type": "code",
   "execution_count": 10,
   "metadata": {},
   "outputs": [],
   "source": [
    "contract = api.Contracts.Stocks.TSE.TSE2890"
   ]
  },
  {
   "cell_type": "markdown",
   "metadata": {},
   "source": [
    "## Making Order Object.\n",
    "### Buy"
   ]
  },
  {
   "cell_type": "code",
   "execution_count": 19,
   "metadata": {},
   "outputs": [],
   "source": [
    "order = api.Order(\n",
    "            price=12, \n",
    "            quantity=1, \n",
    "            action=\"Buy\", \n",
    "            price_type=\"LMT\", \n",
    "            order_type=\"ROD\", \n",
    "            order_lot=\"Common\", \n",
    "            account=api.stock_account\n",
    "        )"
   ]
  },
  {
   "cell_type": "markdown",
   "metadata": {},
   "source": [
    "### Sell"
   ]
  },
  {
   "cell_type": "code",
   "execution_count": 20,
   "metadata": {},
   "outputs": [],
   "source": [
    "order = api.Order(\n",
    "            price=12, \n",
    "            quantity=1, \n",
    "            action=\"Sell\", \n",
    "            price_type=\"LMT\", \n",
    "            order_type=\"ROD\", \n",
    "            order_lot=\"Common\", \n",
    "            account=api.stock_account\n",
    "        )"
   ]
  },
  {
   "cell_type": "markdown",
   "metadata": {},
   "source": [
    "### First Sell"
   ]
  },
  {
   "cell_type": "code",
   "execution_count": 21,
   "metadata": {},
   "outputs": [],
   "source": [
    "order = api.Order(\n",
    "            price=12, \n",
    "            quantity=1, \n",
    "            action=\"Sell\",\n",
    "            price_type=\"LMT\",\n",
    "            order_type=\"ROD\",\n",
    "            order_lot=\"Common\",\n",
    "            first_sell=\"true\",\n",
    "            account=api.stock_account\n",
    "        )"
   ]
  },
  {
   "cell_type": "markdown",
   "metadata": {},
   "source": [
    "## Place Order"
   ]
  },
  {
   "cell_type": "code",
   "execution_count": 18,
   "metadata": {},
   "outputs": [],
   "source": [
    "trade = api.place_order(contract, order)"
   ]
  },
  {
   "cell_type": "markdown",
   "metadata": {},
   "source": [
    "## Example For\n",
    "### Place Order ROD LMT"
   ]
  },
  {
   "cell_type": "code",
   "execution_count": null,
   "metadata": {},
   "outputs": [],
   "source": [
    "import shioaji as sj\n",
    "\n",
    "api = sj.Shioaji()\n",
    "accounts = api.login(\"YOUR_PERSON_ID\", \"YOUR_PASSWORD\")\n",
    "api.activate_ca(\n",
    "    ca_path=\"/c/your/ca/path/Sinopac.pfx\",\n",
    "    ca_passwd=\"YOUR_CA_PASSWORD\",\n",
    "    person_id=\"Person of this Ca\",\n",
    ")\n",
    "api.tft = True\n",
    "\n",
    "contract = api.Contracts.Stocks.TSE.TSE2890\n",
    "order = api.Order(\n",
    "            price=12,\n",
    "            quantity=10,\n",
    "            action=\"Buy\",\n",
    "            price_type=\"LMT\",\n",
    "            order_type=\"ROD\",\n",
    "            account=api.stock_account\n",
    "        )\n",
    "trade = api.place_order(contract, order)\n",
    "trade"
   ]
  },
  {
   "cell_type": "markdown",
   "metadata": {},
   "source": [
    "### Place Order about First Sell"
   ]
  },
  {
   "cell_type": "code",
   "execution_count": null,
   "metadata": {},
   "outputs": [],
   "source": [
    "import shioaji as sj\n",
    "\n",
    "api = sj.Shioaji()\n",
    "accounts = api.login(\"YOUR_PERSON_ID\", \"YOUR_PASSWORD\")\n",
    "api.activate_ca(\n",
    "    ca_path=\"/c/your/ca/path/Sinopac.pfx\",\n",
    "    ca_passwd=\"YOUR_CA_PASSWORD\",\n",
    "    person_id=\"Person of this Ca\",\n",
    ")\n",
    "\n",
    "contract = api.Contracts.Stocks.TSE.TSE2890\n",
    "order = api.Order(price=14,\n",
    "                  quantity=1,\n",
    "                  action=\"Sell\",\n",
    "                  price_type=\"LMT\",\n",
    "                  order_type=\"ROD\",\n",
    "                  first_sell=\"true\",\n",
    "                  account=api.stock_account\n",
    "                  )\n",
    "trade = api.place_order(contract, order)\n",
    "trade"
   ]
  },
  {
   "cell_type": "markdown",
   "metadata": {},
   "source": [
    "### Cancel Order"
   ]
  },
  {
   "cell_type": "code",
   "execution_count": null,
   "metadata": {},
   "outputs": [],
   "source": [
    "api.update_status(api.stock_account)\n",
    "api.cancel_order(trade)\n",
    "api.update_status(api.stock_account)\n",
    "trade"
   ]
  },
  {
   "cell_type": "markdown",
   "metadata": {},
   "source": [
    "### Update Order"
   ]
  },
  {
   "cell_type": "code",
   "execution_count": null,
   "metadata": {},
   "outputs": [],
   "source": [
    "api.update_status(api.stock_account)\n",
    "api.update_order(trade=trade, price=12, quantity=2)\n",
    "api.update_status(api.stock_account)\n",
    "trade"
   ]
  },
  {
   "cell_type": "code",
   "execution_count": null,
   "metadata": {},
   "outputs": [],
   "source": []
  }
 ]
}