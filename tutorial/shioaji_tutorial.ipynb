{
 "cells": [
  {
   "cell_type": "markdown",
   "metadata": {
    "slideshow": {
     "slide_type": "slide"
    }
   },
   "source": [
    "# Shioaji\n",
    "![shioaji-logo](https://sinotrade.github.io/images/shioaji-logo-01.png)![sinopac-logo](http://www.sinotrade.com.tw/Images/logo.png)\n"
   ]
  },
  {
   "cell_type": "markdown",
   "metadata": {
    "slideshow": {
     "slide_type": "subslide"
    }
   },
   "source": [
    "[![PyPI - Status](https://img.shields.io/pypi/v/shioaji.svg?style=for-the-badge)](https://pypi.org/project/shioaji)\n",
    "[![PyPI - Python Version](https://img.shields.io/pypi/pyversions/shioaji.svg?style=for-the-badge)]()\n",
    "[![PyPI - Downloads](https://img.shields.io/pypi/dm/shioaji.svg?style=for-the-badge)](https://pypi.org/project/shioaji)\n",
    "[![Binder](https://img.shields.io/badge/launch-Tutorial-ff69b4.svg?style=for-the-badge)](https://mybinder.org/v2/gh/Sinotrade/Sinotrade.github.io/master?filepath=tutorial%2Fshioaji_tutorial.ipynb)\n",
    "[![doc](https://img.shields.io/badge/docs%20-passing-orange.svg?style=for-the-badge)](https://sinotrade.github.io/)\n",
    "[![Gitter](https://img.shields.io/badge/chat-%20on%20gitter-46bc99.svg?style=for-the-badge)](https://gitter.im/Sinotrade/Shioaji?utm_source=badge&utm_medium=badge&utm_campaign=pr-badge)\n",
    "\n",
    "### Shioaji is sinopac provide the most pythonic api for trading the taiwan and global financial market.\n",
    "### You can use your favorite Python packages such as numpy, scipy, pandas, pytorch or tensorflow to build your own trading model with intergrated the shioaji api on cross platform.\n",
    "### We are in early-release alpha. Expect some adventures and rough edges."
   ]
  },
  {
   "cell_type": "markdown",
   "metadata": {
    "slideshow": {
     "slide_type": "subslide"
    }
   },
   "source": [
    "- [Installation](#installation)\n",
    "    - [Binaries](#binaries)\n",
    "    - [Docker Image](#docker-image)\n",
    "- [Getting Started](#getting-started)\n",
    "- [Communication](#communication)\n",
    "- [Releases and Contributing](#releases-and-contributing)\n",
    "- [The Team](#the-team)"
   ]
  },
  {
   "cell_type": "markdown",
   "metadata": {
    "slideshow": {
     "slide_type": "slide"
    }
   },
   "source": [
    "## Installation\n",
    "### Binaries\n",
    "simple using pip to install\n",
    "```\n",
    "pip install shioaji\n",
    "```"
   ]
  },
  {
   "cell_type": "markdown",
   "metadata": {
    "slideshow": {
     "slide_type": "fragment"
    }
   },
   "source": [
    "\n",
    "### Docker Image\n",
    "simple run with interactive mode in docker \n",
    "```\n",
    "docker run -it sinotrade/shioaji:latest\n",
    "```\n",
    "run with jupyter lab or notebook\n",
    "```\n",
    "docker run -p 8888:8888 sinotrade/shioaji:jupyter\n",
    "```"
   ]
  },
  {
   "cell_type": "code",
   "execution_count": null,
   "metadata": {
    "slideshow": {
     "slide_type": "fragment"
    }
   },
   "outputs": [],
   "source": [
    "! pip install shioaji"
   ]
  },
  {
   "cell_type": "markdown",
   "metadata": {
    "slideshow": {
     "slide_type": "slide"
    }
   },
   "source": [
    "## Getting Started"
   ]
  },
  {
   "cell_type": "code",
   "execution_count": 1,
   "metadata": {
    "slideshow": {
     "slide_type": "fragment"
    }
   },
   "outputs": [],
   "source": [
    "from datetime import date, timedelta\n",
    "import pandas as pd"
   ]
  },
  {
   "cell_type": "markdown",
   "metadata": {
    "slideshow": {
     "slide_type": "fragment"
    }
   },
   "source": [
    "### Just import Our api like other popular python library to get start"
   ]
  },
  {
   "cell_type": "code",
   "execution_count": 2,
   "metadata": {
    "slideshow": {
     "slide_type": "fragment"
    }
   },
   "outputs": [],
   "source": [
    "import shioaji as sj"
   ]
  },
  {
   "cell_type": "markdown",
   "metadata": {
    "slideshow": {
     "slide_type": "subslide"
    }
   },
   "source": [
    "### Use Shioaji object to setup setting and login"
   ]
  },
  {
   "cell_type": "code",
   "execution_count": 3,
   "metadata": {
    "slideshow": {
     "slide_type": "fragment"
    }
   },
   "outputs": [
    {
     "data": {
      "text/plain": [
       "\u001b[0;31mInit signature:\u001b[0m \u001b[0msj\u001b[0m\u001b[0;34m.\u001b[0m\u001b[0mShioaji\u001b[0m\u001b[0;34m(\u001b[0m\u001b[0mbackend\u001b[0m\u001b[0;34m=\u001b[0m\u001b[0;34m'http'\u001b[0m\u001b[0;34m,\u001b[0m \u001b[0msimulation\u001b[0m\u001b[0;34m=\u001b[0m\u001b[0;32mTrue\u001b[0m\u001b[0;34m,\u001b[0m \u001b[0mproxies\u001b[0m\u001b[0;34m=\u001b[0m\u001b[0;34m{\u001b[0m\u001b[0;34m}\u001b[0m\u001b[0;34m,\u001b[0m \u001b[0mcurrency\u001b[0m\u001b[0;34m=\u001b[0m\u001b[0;34m'NTD'\u001b[0m\u001b[0;34m)\u001b[0m\u001b[0;34m\u001b[0m\u001b[0m\n",
       "\u001b[0;31mDocstring:\u001b[0m     \n",
       "shioaji api \n",
       "\n",
       "Functions:\n",
       "    login \n",
       "    activate_ca\n",
       "    list_accounts\n",
       "    set_default_account\n",
       "    get_account_margin \n",
       "    get_account_openposition\n",
       "    get_account_settle_profitloss\n",
       "    place_order\n",
       "    update_order\n",
       "    update_status\n",
       "    list_trades\n",
       "\n",
       "Objects:\n",
       "    Contracts\n",
       "    Order\n",
       "\u001b[0;31mInit docstring:\u001b[0m\n",
       "initialize Shioaji to start trading\n",
       "\n",
       "Args:\n",
       "    backend (str): {http, socket} \n",
       "        use http or socket as backend currently only support http, async socket backend coming soon.\n",
       "    simulation (bool): \n",
       "        - False: to trading on real market (just use your Sinopac account to start trading)\n",
       "        - True: become simulation account(need to contract as to open simulation account)\n",
       "    proxies (dict): specific the proxies of your https\n",
       "        ex: {'https': 'your-proxy-url'}\n",
       "    currency (str): {NTX, USX, NTD, USD, HKD, EUR, JPY, GBP}\n",
       "        set the default currency for display \n",
       "\u001b[0;31mFile:\u001b[0m           shioaji/shioaji.py\n",
       "\u001b[0;31mType:\u001b[0m           type\n"
      ]
     },
     "metadata": {},
     "output_type": "display_data"
    }
   ],
   "source": [
    "sj.Shioaji?"
   ]
  },
  {
   "cell_type": "code",
   "execution_count": 4,
   "metadata": {
    "slideshow": {
     "slide_type": "fragment"
    }
   },
   "outputs": [],
   "source": [
    "api = sj.Shioaji(backend='http', simulation=True)"
   ]
  },
  {
   "cell_type": "code",
   "execution_count": 5,
   "metadata": {
    "slideshow": {
     "slide_type": "subslide"
    }
   },
   "outputs": [
    {
     "data": {
      "text/plain": [
       "\u001b[0;31mSignature:\u001b[0m \u001b[0mapi\u001b[0m\u001b[0;34m.\u001b[0m\u001b[0mlogin\u001b[0m\u001b[0;34m(\u001b[0m\u001b[0mperson_id\u001b[0m\u001b[0;34m,\u001b[0m \u001b[0mpasswd\u001b[0m\u001b[0;34m)\u001b[0m\u001b[0;34m\u001b[0m\u001b[0m\n",
       "\u001b[0;31mDocstring:\u001b[0m\n",
       "login to trading server\n",
       "\n",
       "Args:\n",
       "    person_id (str): Same as your eleader, ileader login id(usually your person ID)\n",
       "    passwd  (str): the password of your eleader login password(not ca password)\n",
       "\u001b[0;31mFile:\u001b[0m      shioaji/shioaji.py\n",
       "\u001b[0;31mType:\u001b[0m      method\n"
      ]
     },
     "metadata": {},
     "output_type": "display_data"
    }
   ],
   "source": [
    "api.login?"
   ]
  },
  {
   "cell_type": "code",
   "execution_count": 6,
   "metadata": {
    "slideshow": {
     "slide_type": "fragment"
    }
   },
   "outputs": [],
   "source": [
    "person_id = 'SCCEIEFAJA'"
   ]
  },
  {
   "cell_type": "code",
   "execution_count": 7,
   "metadata": {
    "slideshow": {
     "slide_type": "fragment"
    }
   },
   "outputs": [],
   "source": [
    "api.login(person_id=person_id, passwd='2222')"
   ]
  },
  {
   "cell_type": "code",
   "execution_count": 8,
   "metadata": {
    "slideshow": {
     "slide_type": "fragment"
    }
   },
   "outputs": [
    {
     "data": {
      "text/plain": [
       "FutureAccount(person_id='SCCEIEFAJA', broker_id='F002000', account_id='9104000', username='莊*芬')"
      ]
     },
     "execution_count": 8,
     "metadata": {},
     "output_type": "execute_result"
    }
   ],
   "source": [
    "api.fut_account"
   ]
  },
  {
   "cell_type": "markdown",
   "metadata": {
    "slideshow": {
     "slide_type": "subslide"
    }
   },
   "source": [
    "### List all your account"
   ]
  },
  {
   "cell_type": "code",
   "execution_count": 9,
   "metadata": {
    "slideshow": {
     "slide_type": "fragment"
    }
   },
   "outputs": [
    {
     "data": {
      "text/plain": [
       "[Account(account_type='H', person_id='QCCAHIFFDH', broker_id='1300', account_id='09800762', username='n*m'),\n",
       " FutureAccount(person_id='SCCEIEFAJA', broker_id='F002000', account_id='9104000', username='莊*芬'),\n",
       " StockAccount(person_id='SCCEIEFAJA', broker_id='9A92', account_id='9802195', username='莊*芬')]"
      ]
     },
     "execution_count": 9,
     "metadata": {},
     "output_type": "execute_result"
    }
   ],
   "source": [
    "api.list_accounts()"
   ]
  },
  {
   "cell_type": "markdown",
   "metadata": {
    "slideshow": {
     "slide_type": "fragment"
    }
   },
   "source": [
    "### Set your default trading account"
   ]
  },
  {
   "cell_type": "code",
   "execution_count": 10,
   "metadata": {
    "slideshow": {
     "slide_type": "fragment"
    }
   },
   "outputs": [],
   "source": [
    "api.set_default_account(api.fut_account)"
   ]
  },
  {
   "cell_type": "markdown",
   "metadata": {
    "slideshow": {
     "slide_type": "subslide"
    }
   },
   "source": [
    "### Activate your cetifacation to start ordering"
   ]
  },
  {
   "cell_type": "code",
   "execution_count": 11,
   "metadata": {
    "slideshow": {
     "slide_type": "fragment"
    }
   },
   "outputs": [
    {
     "data": {
      "text/plain": [
       "\u001b[0;31mSignature:\u001b[0m \u001b[0mapi\u001b[0m\u001b[0;34m.\u001b[0m\u001b[0mactivate_ca\u001b[0m\u001b[0;34m(\u001b[0m\u001b[0mca_path\u001b[0m\u001b[0;34m,\u001b[0m \u001b[0mca_passwd\u001b[0m\u001b[0;34m,\u001b[0m \u001b[0mperson_id\u001b[0m\u001b[0;34m)\u001b[0m\u001b[0;34m\u001b[0m\u001b[0m\n",
       "\u001b[0;31mDocstring:\u001b[0m\n",
       "activate your ca for trading\n",
       "\n",
       "Args: \n",
       "    ca_path (str):\n",
       "        the path of your ca, support both absloutely and relatively path, use same ca with eleader\n",
       "    ca_passwd (str): password of your ca\n",
       "    person_id (str): the ca belong which person ID\n",
       "\u001b[0;31mFile:\u001b[0m      shioaji/shioaji.py\n",
       "\u001b[0;31mType:\u001b[0m      method\n"
      ]
     },
     "metadata": {},
     "output_type": "display_data"
    }
   ],
   "source": [
    "api.activate_ca?"
   ]
  },
  {
   "cell_type": "code",
   "execution_count": null,
   "metadata": {
    "slideshow": {
     "slide_type": "skip"
    }
   },
   "outputs": [],
   "source": [
    "import os\n",
    "if not os.path.exists('../ca'):\n",
    "    os.system('mkdir ../ca')\n",
    "if not os.path.exists('../ca/Sinopac.pfx'):\n",
    "    os.system('wget https://github.com/Sinotrade/Shioaji/releases/download/0.0.1.dev9/Sinopac.pfx')\n",
    "    os.system('mv Sinopac.pfx ../ca/Sinopac.pfx')"
   ]
  },
  {
   "cell_type": "code",
   "execution_count": 12,
   "metadata": {
    "slideshow": {
     "slide_type": "fragment"
    }
   },
   "outputs": [
    {
     "name": "stdout",
     "output_type": "stream",
     "text": [
      "Ca Initial Done.\n"
     ]
    },
    {
     "data": {
      "text/plain": [
       "0"
      ]
     },
     "execution_count": 12,
     "metadata": {},
     "output_type": "execute_result"
    }
   ],
   "source": [
    "api.activate_ca(ca_path='../ca/Sinopac.pfx', ca_passwd='SCCEIEFAJA', person_id=person_id)"
   ]
  },
  {
   "cell_type": "markdown",
   "metadata": {
    "slideshow": {
     "slide_type": "subslide"
    }
   },
   "source": [
    "### Making Order object to place order"
   ]
  },
  {
   "cell_type": "code",
   "execution_count": 13,
   "metadata": {
    "slideshow": {
     "slide_type": "fragment"
    }
   },
   "outputs": [
    {
     "data": {
      "text/plain": [
       "\u001b[0;31mInit signature:\u001b[0m \u001b[0mapi\u001b[0m\u001b[0;34m.\u001b[0m\u001b[0mOrder\u001b[0m\u001b[0;34m(\u001b[0m\u001b[0maction\u001b[0m\u001b[0;34m,\u001b[0m \u001b[0mprice_type\u001b[0m\u001b[0;34m,\u001b[0m \u001b[0morder_type\u001b[0m\u001b[0;34m,\u001b[0m \u001b[0mprice\u001b[0m\u001b[0;34m,\u001b[0m \u001b[0mquantity\u001b[0m\u001b[0;34m,\u001b[0m \u001b[0;34m*\u001b[0m\u001b[0margs\u001b[0m\u001b[0;34m,\u001b[0m \u001b[0;34m**\u001b[0m\u001b[0mkwargs\u001b[0m\u001b[0;34m)\u001b[0m\u001b[0;34m\u001b[0m\u001b[0m\n",
       "\u001b[0;31mDocstring:\u001b[0m     \n",
       "The basic order object to place order\n",
       "\n",
       "Attributes:\n",
       "    product_id (str): the code of product that order to placing\n",
       "    action (srt): {B, S}, order action to buy or sell\n",
       "        - B: buy\n",
       "        - S: sell\n",
       "    price_type (str): {LMT, MKT, MKP}, pricing type of order\n",
       "        - LMT: limit\n",
       "        - MKT: market\n",
       "        - MKP: market range\n",
       "    order_type (str): {ROD, IOC, FOK}, the type of order\n",
       "        - ROD: Rest of Day\n",
       "        - IOC: Immediate-or-Cancel\n",
       "        - FOK: Fill-or-Kill\n",
       "    octype (str): {' ', '0', '1', '6'}, the type or order to open new position or close position \n",
       "        - ' ': auto\n",
       "        - '0': new position\n",
       "        - '1': close position\n",
       "        - '6': day trade\n",
       "    price (float or int): the price of order\n",
       "    quantity (int): the quantity of order\n",
       "    account (:obj:Account): which account to place this order\n",
       "    ca (binary): the ca of this order\n",
       "\u001b[0;31mInit docstring:\u001b[0m\n",
       "the __init__ method of order\n",
       "\n",
       "Args:\n",
       "    product_id (str, optional): the code of product that order to placing \n",
       "                                if not provide will gen from contract when placing order \n",
       "    action (srt): {B, S}, order action to buy or sell\n",
       "        - B: buy\n",
       "        - S: sell\n",
       "    price_type (str): {LMT, MKT, MKP}, pricing type of order\n",
       "        - LMT: limit\n",
       "        - MKT: market\n",
       "        - MKP: market range\n",
       "    order_type (str): {ROD, IOC, FOK}, the type of order\n",
       "        - ROD: Rest of Day\n",
       "        - IOC: Immediate-or-Cancel\n",
       "        - FOK: Fill-or-Kill\n",
       "    octype (str, optional): {' ', '0', '1', '6'}, the type or order \n",
       "                            to open new position or close position \n",
       "                            if not provide will become auto mode \n",
       "        - ' ': auto\n",
       "        - '0': new position\n",
       "        - '1': close position\n",
       "        - '6': day trade\n",
       "    price (float or int): the price of order\n",
       "    quantity (int): the quantity of order\n",
       "\u001b[0;31mFile:\u001b[0m           shioaji/order.py\n",
       "\u001b[0;31mType:\u001b[0m           type\n"
      ]
     },
     "metadata": {},
     "output_type": "display_data"
    }
   ],
   "source": [
    "api.Order?"
   ]
  },
  {
   "cell_type": "markdown",
   "metadata": {
    "slideshow": {
     "slide_type": "subslide"
    }
   },
   "source": [
    "#### using tab to direct get all the Order properties with autocomplete"
   ]
  },
  {
   "cell_type": "code",
   "execution_count": 13,
   "metadata": {
    "slideshow": {
     "slide_type": "fragment"
    }
   },
   "outputs": [
    {
     "data": {
      "text/plain": [
       "shioaji.backend.http.order.Order_props"
      ]
     },
     "execution_count": 13,
     "metadata": {},
     "output_type": "execute_result"
    }
   ],
   "source": [
    "api.OrderProps."
   ]
  },
  {
   "cell_type": "code",
   "execution_count": 14,
   "metadata": {
    "slideshow": {
     "slide_type": "fragment"
    }
   },
   "outputs": [
    {
     "data": {
      "text/plain": [
       "'IOC'"
      ]
     },
     "execution_count": 14,
     "metadata": {},
     "output_type": "execute_result"
    }
   ],
   "source": [
    "api.OrderProps.order_type.IOC"
   ]
  },
  {
   "cell_type": "markdown",
   "metadata": {
    "slideshow": {
     "slide_type": "subslide"
    }
   },
   "source": [
    "#### using tab to direct get avaliable trading product with Contracts"
   ]
  },
  {
   "cell_type": "code",
   "execution_count": 15,
   "metadata": {},
   "outputs": [
    {
     "data": {
      "text/plain": [
       "Contracts(Futures=(BRF, CAF, CBF, CCF, CDF, CEF, CFF, CGF, CHF, CJ1, CJF, CKF, CLF, CM1, CMF, CNF, CQF, CRF, CSF, CUF, CWF, CXF, CYF, CZ1, CZF, DC1, DCF, DDF, DE1, DEF, DF1, DFF, DGF, DHF, DJF, DKF, DLF, DN1, DNF, DOF, DP1, DPF, DQF, DSF, DUF, DVF, DWF, DX1, DXF, DYF, DZ1, DZF, EEF, EGF, EHF, EMF, EPF, ERF, ESF, EXF, EY1, EYF, FF1, FFF, FGF, FKF, FQF, FRF, FTF, FVF, FWF, FXF, FYF, FZF, GAF, GBF, GCF, GDF, GHF, GIF, GJF, GLF, GMF, GNF, GOF, GPF, GRF, GTF, GUF, GWF, GXF, GZF, HAF, HBF, HCF, HHF, HIF, HLF, HMF, HOF, HS1, HSF, HY1, HYF, I5F, IA1, IAF, IHF, IIF, IJF, IMF, IOF, IPF, IQF, IRF, ITF, IVF, IXF, IYF, IZF, JBF, JDF, JFF, JGF, JIF, JNF, JPF, JSF, JWF, JZF, KAF, KCF, KDF, KFF, KG1, KGF, KIF, KKF, KLF, KOF, KPF, KSF, KWF, LBF, LCF, LIF, LMF, LO1, LOF, LQF, LRF, LTF, LUF, LV1, LVF, LWF, LX1, LXF, LZF, MAF, MBF, MCF, MEF, MIF, MJF, MKF, ML1, MPF, MQF, MVF, MXF, MYF, NAF, NBF, NCF, NDF, NEF, NGF, NHF, NI1, NIF, NJF, NLF, NMF, NNF, NOF, NQF, NSF, NTF, NUF, NVF, NWF, NXF, NYF, NZF, OAF, OBF, OCF, ODF, OEF, OFF, OGF, OHF, OJF, OKF, OLF, OMF, ONF, OOF, OPF, OQF, ORF, OSF, OTF, OUF, OVF, OWF, OXF, OYF, OZF, PAF, PBF, RHF, RTF, SPF, T5F, TGF, TJF, TXF, UDF, XAF, XBF, XEF, XIF, XJF), Options=(CAO, CBA, CBO, CCO, CDO, CEO, CFO, CGA, CGO, CHO, CJA, CJO, CKO, CLA, CLO, CMA, CMO, CNO, CQO, CRO, CSO, CXO, CZA, CZO, DCO, DEA, DEO, DFA, DFO, DGO, DHA, DHO, DJO, DKA, DKO, DLO, DNA, DNO, DOO, DPO, DQO, DSO, DUO, DVO, DWO, DXA, DXO, GIA, GIO, GTO, GXO, HCO, IJA, IJO, LOA, LOO, NYA, NYO, NZO, OAO, OBO, OCO, OJO, OKO, OOO, OZA, OZO, RHO, RTO, TEO, TFO, TGO, TXO, XIO))"
      ]
     },
     "execution_count": 15,
     "metadata": {},
     "output_type": "execute_result"
    }
   ],
   "source": [
    "api.Contracts"
   ]
  },
  {
   "cell_type": "code",
   "execution_count": 16,
   "metadata": {},
   "outputs": [
    {
     "data": {
      "text/plain": [
       "(BRF, CAF, CBF, CCF, CDF, CEF, CFF, CGF, CHF, CJ1, CJF, CKF, CLF, CM1, CMF, CNF, CQF, CRF, CSF, CUF, CWF, CXF, CYF, CZ1, CZF, DC1, DCF, DDF, DE1, DEF, DF1, DFF, DGF, DHF, DJF, DKF, DLF, DN1, DNF, DOF, DP1, DPF, DQF, DSF, DUF, DVF, DWF, DX1, DXF, DYF, DZ1, DZF, EEF, EGF, EHF, EMF, EPF, ERF, ESF, EXF, EY1, EYF, FF1, FFF, FGF, FKF, FQF, FRF, FTF, FVF, FWF, FXF, FYF, FZF, GAF, GBF, GCF, GDF, GHF, GIF, GJF, GLF, GMF, GNF, GOF, GPF, GRF, GTF, GUF, GWF, GXF, GZF, HAF, HBF, HCF, HHF, HIF, HLF, HMF, HOF, HS1, HSF, HY1, HYF, I5F, IA1, IAF, IHF, IIF, IJF, IMF, IOF, IPF, IQF, IRF, ITF, IVF, IXF, IYF, IZF, JBF, JDF, JFF, JGF, JIF, JNF, JPF, JSF, JWF, JZF, KAF, KCF, KDF, KFF, KG1, KGF, KIF, KKF, KLF, KOF, KPF, KSF, KWF, LBF, LCF, LIF, LMF, LO1, LOF, LQF, LRF, LTF, LUF, LV1, LVF, LWF, LX1, LXF, LZF, MAF, MBF, MCF, MEF, MIF, MJF, MKF, ML1, MPF, MQF, MVF, MXF, MYF, NAF, NBF, NCF, NDF, NEF, NGF, NHF, NI1, NIF, NJF, NLF, NMF, NNF, NOF, NQF, NSF, NTF, NUF, NVF, NWF, NXF, NYF, NZF, OAF, OBF, OCF, ODF, OEF, OFF, OGF, OHF, OJF, OKF, OLF, OMF, ONF, OOF, OPF, OQF, ORF, OSF, OTF, OUF, OVF, OWF, OXF, OYF, OZF, PAF, PBF, RHF, RTF, SPF, T5F, TGF, TJF, TXF, UDF, XAF, XBF, XEF, XIF, XJF)"
      ]
     },
     "execution_count": 16,
     "metadata": {},
     "output_type": "execute_result"
    }
   ],
   "source": [
    "api.Contracts.Futures"
   ]
  },
  {
   "cell_type": "code",
   "execution_count": 17,
   "metadata": {},
   "outputs": [
    {
     "data": {
      "text/plain": [
       "TXF(TXF201903, TXF201906, TXF201809, TXF201810, TXF201811, TXF201812)"
      ]
     },
     "execution_count": 17,
     "metadata": {},
     "output_type": "execute_result"
    }
   ],
   "source": [
    "api.Contracts.Futures.TXF"
   ]
  },
  {
   "cell_type": "code",
   "execution_count": 19,
   "metadata": {
    "slideshow": {
     "slide_type": "fragment"
    }
   },
   "outputs": [
    {
     "data": {
      "text/plain": [
       "Future(symbol='TXF201903', code='TXFC9', name='台指期貨', category='TXF', delivery_month='201903', underlying_kind='I', underlying_code='#001', unit=1.0)"
      ]
     },
     "execution_count": 19,
     "metadata": {},
     "output_type": "execute_result"
    }
   ],
   "source": [
    "api.Contracts.Futures.TXF.TXF201903"
   ]
  },
  {
   "cell_type": "code",
   "execution_count": 21,
   "metadata": {
    "slideshow": {
     "slide_type": "fragment"
    }
   },
   "outputs": [],
   "source": [
    "TXFR3 = api.Contracts.Futures.TXF.TXF201903"
   ]
  },
  {
   "cell_type": "code",
   "execution_count": 22,
   "metadata": {
    "slideshow": {
     "slide_type": "subslide"
    }
   },
   "outputs": [
    {
     "data": {
      "text/plain": [
       "Order(product_id='TXFC9', action='B', price_type='LMT', order_type='ROD', price=9600, quantity=5, account=FutureAccount(person_id='SCCEIEFAJA', broker_id='F002000', account_id='9104000', username='莊*芬'))"
      ]
     },
     "execution_count": 22,
     "metadata": {},
     "output_type": "execute_result"
    }
   ],
   "source": [
    "sample_order = api.Order(product_id=TXFR3.code, \n",
    "                         price=9600,\n",
    "                         action=api.OrderProps.action.Buy,\n",
    "                         price_type=api.OrderProps.price_type.LMT,\n",
    "                         order_type=api.OrderProps.order_type.ROD,\n",
    "                         octype=api.OrderProps.octype.auto,\n",
    "                         quantity=5,\n",
    "                         account=api.fut_account,\n",
    "                        )\n",
    "sample_order"
   ]
  },
  {
   "cell_type": "markdown",
   "metadata": {},
   "source": [
    "### Using LimitOrder, MarketOrder, etc."
   ]
  },
  {
   "cell_type": "code",
   "execution_count": 23,
   "metadata": {},
   "outputs": [
    {
     "name": "stdout",
     "output_type": "stream",
     "text": [
      " LimitOrder\n",
      "\n",
      "        Args:\n",
      "            product_id (str, optional): the code of product that order to placing \n",
      "                                        if not provide will gen from contract when placing order \n",
      "            action (srt): {B, S}, order action to buy or sell\n",
      "                - B: buy\n",
      "                - S: sell\n",
      "            price (float or int): the price of order\n",
      "            quantity (int): the quantity of order\n",
      "            order_type (str, optional): {ROD, IOC, FOK}, the type of order\n",
      "                - ROD: Rest of Day\n",
      "                - IOC: Immediate-or-Cancel\n",
      "                - FOK: Fill-or-Kill\n",
      "            octype (str, optional): {' ', '0', '1', '6'}, the type or order \n",
      "                                    to open new position or close position \n",
      "                                    if not provide will become auto mode \n",
      "                - ' ': auto\n",
      "                - '0': new position\n",
      "                - '1': close position\n",
      "                - '6': day trade\n",
      "        \n"
     ]
    }
   ],
   "source": [
    "print(api.LimitOrder.__init__.__doc__)"
   ]
  },
  {
   "cell_type": "code",
   "execution_count": 24,
   "metadata": {},
   "outputs": [
    {
     "data": {
      "text/plain": [
       "LimitOrder(action='B', order_type='ROD', price=9700, quantity=5)"
      ]
     },
     "execution_count": 24,
     "metadata": {},
     "output_type": "execute_result"
    }
   ],
   "source": [
    "sample_limit_order = api.LimitOrder('B', 9700, 5)\n",
    "sample_limit_order"
   ]
  },
  {
   "cell_type": "code",
   "execution_count": 25,
   "metadata": {},
   "outputs": [
    {
     "name": "stdout",
     "output_type": "stream",
     "text": [
      " MarketOrder\n",
      "\n",
      "        Args:\n",
      "            product_id (str, optional): the code of product that order to placing \n",
      "                                        if not provide will gen from contract when placing order \n",
      "            action (srt): {B, S}, order action to buy or sell\n",
      "                - B: buy\n",
      "                - S: sell\n",
      "            quantity (int): the quantity of order\n",
      "            order_type (str, optional): {IOC, FOK}, the type of order\n",
      "                - IOC: Immediate-or-Cancel\n",
      "                - FOK: Fill-or-Kill\n",
      "            octype (str, optional): {' ', '0', '1', '6'}, the type or order \n",
      "                                    to open new position or close position \n",
      "                                    if not provide will become auto mode \n",
      "                - ' ': auto\n",
      "                - '0': new position\n",
      "                - '1': close position\n",
      "                - '6': day trade\n",
      "        \n"
     ]
    }
   ],
   "source": [
    "print(api.MarketOrder.__init__.__doc__)"
   ]
  },
  {
   "cell_type": "code",
   "execution_count": 26,
   "metadata": {},
   "outputs": [
    {
     "data": {
      "text/plain": [
       "MarketOrder(action='B', order_type='IOC', quantity=5)"
      ]
     },
     "execution_count": 26,
     "metadata": {},
     "output_type": "execute_result"
    }
   ],
   "source": [
    "sample_mkt_order = api.MarketOrder('B', 5)\n",
    "sample_mkt_order"
   ]
  },
  {
   "cell_type": "markdown",
   "metadata": {
    "slideshow": {
     "slide_type": "fragment"
    }
   },
   "source": [
    "### just pass Order object to place_order fuction to place order then will get the Trade object return"
   ]
  },
  {
   "cell_type": "code",
   "execution_count": 27,
   "metadata": {
    "slideshow": {
     "slide_type": "fragment"
    }
   },
   "outputs": [],
   "source": [
    "trade = api.place_order(TXFR3, sample_order)"
   ]
  },
  {
   "cell_type": "code",
   "execution_count": 28,
   "metadata": {
    "slideshow": {
     "slide_type": "subslide"
    }
   },
   "outputs": [
    {
     "data": {
      "text/plain": [
       "Trade(contract=Future(symbol='TXF201903', code='TXFC9', name='台指期貨', category='TXF', delivery_month='201903', underlying_kind='I', underlying_code='#001', unit=1.0), order=Order(product_id='TXFC9', action='B', price_type='LMT', order_type='ROD', price=9600, quantity=5, account=FutureAccount(person_id='SCCEIEFAJA', broker_id='F002000', account_id='9104000', username='莊*芬')), status=OrderStatus(seqno='701124', order_id='7521840eb43914f94f98f025b1762e0b250ded21', status='PendingSubmit', order_datetime=datetime.datetime(2019, 1, 16, 12, 39, 28)))"
      ]
     },
     "execution_count": 28,
     "metadata": {},
     "output_type": "execute_result"
    }
   ],
   "source": [
    "trade"
   ]
  },
  {
   "cell_type": "markdown",
   "metadata": {
    "slideshow": {
     "slide_type": "subslide"
    }
   },
   "source": [
    "### Update the trade object status to get the trade information"
   ]
  },
  {
   "cell_type": "code",
   "execution_count": 29,
   "metadata": {
    "slideshow": {
     "slide_type": "fragment"
    }
   },
   "outputs": [],
   "source": [
    "api.update_status()"
   ]
  },
  {
   "cell_type": "code",
   "execution_count": 30,
   "metadata": {
    "slideshow": {
     "slide_type": "fragment"
    }
   },
   "outputs": [
    {
     "data": {
      "text/plain": [
       "Trade(contract=Future(symbol='TXF201903', code='TXFC9', name='台指期貨', category='TXF', delivery_month='201903', underlying_kind='I', underlying_code='#001', unit=1.0), order=Order(product_id='TXFC9', action='B', price_type='LMT', order_type='ROD', price=9600, quantity=5, account=FutureAccount(person_id='SCCEIEFAJA', broker_id='F002000', account_id='9104000', username='莊*芬')), status=OrderStatus(seqno='701124', ordno='ky00P', order_id='7521840eb43914f94f98f025b1762e0b250ded21', status='Submitted', status_code='0000', msg='ky00P', modified_price=9600.0, remaining=5, order_datetime=datetime.datetime(2019, 1, 16, 12, 39, 28)))"
      ]
     },
     "execution_count": 30,
     "metadata": {},
     "output_type": "execute_result"
    }
   ],
   "source": [
    "trade"
   ]
  },
  {
   "cell_type": "markdown",
   "metadata": {
    "slideshow": {
     "slide_type": "subslide"
    }
   },
   "source": [
    "### Modify price or qty of trade"
   ]
  },
  {
   "cell_type": "code",
   "execution_count": 31,
   "metadata": {
    "slideshow": {
     "slide_type": "fragment"
    }
   },
   "outputs": [],
   "source": [
    "trade = api.update_order(trade, price=9800, qty=1)"
   ]
  },
  {
   "cell_type": "code",
   "execution_count": 32,
   "metadata": {
    "slideshow": {
     "slide_type": "fragment"
    }
   },
   "outputs": [
    {
     "data": {
      "text/plain": [
       "Trade(contract=Future(symbol='TXF201903', code='TXFC9', name='台指期貨', category='TXF', delivery_month='201903', underlying_kind='I', underlying_code='#001', unit=1.0), order=Order(product_id='TXFC9', action='B', price_type='LMT', order_type='ROD', price=9600, quantity=5, account=FutureAccount(person_id='SCCEIEFAJA', broker_id='F002000', account_id='9104000', username='莊*芬')), status=OrderStatus(seqno='701124', ordno='ky00P', order_id='7521840eb43914f94f98f025b1762e0b250ded21', status='Submitted', status_code='0000', msg='ky00P', modified_price=9800.0, remaining=5, order_datetime=datetime.datetime(2019, 1, 16, 12, 39, 28)))"
      ]
     },
     "execution_count": 32,
     "metadata": {},
     "output_type": "execute_result"
    }
   ],
   "source": [
    "trade"
   ]
  },
  {
   "cell_type": "markdown",
   "metadata": {
    "slideshow": {
     "slide_type": "slide"
    }
   },
   "source": [
    "## Quote Api"
   ]
  },
  {
   "cell_type": "code",
   "execution_count": 6,
   "metadata": {
    "slideshow": {
     "slide_type": "fragment"
    }
   },
   "outputs": [
    {
     "data": {
      "text/plain": [
       "\u001b[0;31mType:\u001b[0m        Quote\n",
       "\u001b[0;31mString form:\u001b[0m <shioaji.backend.solace.quote.Quote object at 0x7fe4bba6d828>\n",
       "\u001b[0;31mFile:\u001b[0m        shioaji/backend/solace/quote.py\n",
       "\u001b[0;31mDocstring:\u001b[0m  \n",
       "Quote Api\n",
       "\n",
       "Functions:\n",
       "    set_callback\n",
       "    set_event_callback\n",
       "    subscribe \n"
      ]
     },
     "metadata": {},
     "output_type": "display_data"
    }
   ],
   "source": [
    "api.quote?"
   ]
  },
  {
   "cell_type": "markdown",
   "metadata": {
    "slideshow": {
     "slide_type": "subslide"
    }
   },
   "source": [
    "### Set event and quote callback"
   ]
  },
  {
   "cell_type": "code",
   "execution_count": 7,
   "metadata": {
    "slideshow": {
     "slide_type": "fragment"
    }
   },
   "outputs": [
    {
     "data": {
      "text/plain": [
       "\u001b[0;31mSignature:\u001b[0m \u001b[0mapi\u001b[0m\u001b[0;34m.\u001b[0m\u001b[0mquote\u001b[0m\u001b[0;34m.\u001b[0m\u001b[0mset_callback\u001b[0m\u001b[0;34m(\u001b[0m\u001b[0mfunc\u001b[0m\u001b[0;34m)\u001b[0m\u001b[0;34m\u001b[0m\u001b[0m\n",
       "\u001b[0;31mDocstring:\u001b[0m\n",
       "set quote callback\n",
       "\n",
       "Args: \n",
       "    func (:function): func(topic: str, quote_msg: dict) -> int\n",
       "        when receive quote will call this function to processed the msg\n",
       "\u001b[0;31mFile:\u001b[0m      shioaji/backend/solace/quote.py\n",
       "\u001b[0;31mType:\u001b[0m      method\n"
      ]
     },
     "metadata": {},
     "output_type": "display_data"
    }
   ],
   "source": [
    "api.quote.set_callback?"
   ]
  },
  {
   "cell_type": "code",
   "execution_count": 8,
   "metadata": {
    "slideshow": {
     "slide_type": "fragment"
    }
   },
   "outputs": [
    {
     "data": {
      "text/plain": [
       "\u001b[0;31mSignature:\u001b[0m \u001b[0mapi\u001b[0m\u001b[0;34m.\u001b[0m\u001b[0mquote\u001b[0m\u001b[0;34m.\u001b[0m\u001b[0mset_event_callback\u001b[0m\u001b[0;34m(\u001b[0m\u001b[0mfunc\u001b[0m\u001b[0;34m)\u001b[0m\u001b[0;34m\u001b[0m\u001b[0m\n",
       "\u001b[0;31mDocstring:\u001b[0m\n",
       "set event callback\n",
       "\n",
       "Args:\n",
       "    func (:function): func(resp_code: int, event_code: int, event: str) -> None\n",
       "        when event happend will call this function to deal with event\n",
       "\u001b[0;31mFile:\u001b[0m      shioaji/backend/solace/quote.py\n",
       "\u001b[0;31mType:\u001b[0m      method\n"
      ]
     },
     "metadata": {},
     "output_type": "display_data"
    }
   ],
   "source": [
    "api.quote.set_event_callback?"
   ]
  },
  {
   "cell_type": "markdown",
   "metadata": {
    "slideshow": {
     "slide_type": "subslide"
    }
   },
   "source": [
    "### Prepare your callback, now just keep it simple"
   ]
  },
  {
   "cell_type": "code",
   "execution_count": 7,
   "metadata": {
    "slideshow": {
     "slide_type": "fragment"
    }
   },
   "outputs": [],
   "source": [
    "@sj.on_quote\n",
    "def quote_callback(topic, quote_msg):\n",
    "    print(topic, quote_msg)\n",
    "\n",
    "@sj.on_event\n",
    "def event_callback(resp_code, event_code, event):\n",
    "    print(\"Respone Code: {} | Event Code: {} | Event: {}\".format(resp_code, event_code, event))"
   ]
  },
  {
   "cell_type": "code",
   "execution_count": 8,
   "metadata": {
    "slideshow": {
     "slide_type": "fragment"
    }
   },
   "outputs": [],
   "source": [
    "api.quote.set_callback(quote_callback)\n",
    "api.quote.set_event_callback(event_callback)"
   ]
  },
  {
   "cell_type": "markdown",
   "metadata": {
    "slideshow": {
     "slide_type": "subslide"
    }
   },
   "source": [
    "### Subscribe quote of the contract"
   ]
  },
  {
   "cell_type": "code",
   "execution_count": 9,
   "metadata": {
    "slideshow": {
     "slide_type": "fragment"
    }
   },
   "outputs": [
    {
     "data": {
      "text/plain": [
       "\u001b[0;31mSignature:\u001b[0m \u001b[0mapi\u001b[0m\u001b[0;34m.\u001b[0m\u001b[0mquote\u001b[0m\u001b[0;34m.\u001b[0m\u001b[0msubscribe\u001b[0m\u001b[0;34m(\u001b[0m\u001b[0mcontract\u001b[0m\u001b[0;34m,\u001b[0m \u001b[0mquote_type\u001b[0m\u001b[0;34m=\u001b[0m\u001b[0;34m'tick'\u001b[0m\u001b[0;34m)\u001b[0m\u001b[0;34m\u001b[0m\u001b[0m\n",
       "\u001b[0;31mDocstring:\u001b[0m\n",
       "subscribe the quote of contract \n",
       "\n",
       "Args:\n",
       "    contract (:obj:Shioaji.Contract): the contract you want to subscribe\n",
       "    quote_type (str): {tick, bidask}\n",
       "\u001b[0;31mFile:\u001b[0m      shioaji/backend/solace/quote.py\n",
       "\u001b[0;31mType:\u001b[0m      method\n"
      ]
     },
     "metadata": {},
     "output_type": "display_data"
    }
   ],
   "source": [
    "api.quote.subscribe?"
   ]
  },
  {
   "cell_type": "code",
   "execution_count": 9,
   "metadata": {
    "slideshow": {
     "slide_type": "fragment"
    }
   },
   "outputs": [],
   "source": [
    "TXFR1 = api.Contracts.Futures.TXF.TXF201903\n",
    "TSE2330 = api.Contracts.Stocks.TSE.TSE2330"
   ]
  },
  {
   "cell_type": "code",
   "execution_count": 10,
   "metadata": {
    "slideshow": {
     "slide_type": "subslide"
    }
   },
   "outputs": [
    {
     "name": "stdout",
     "output_type": "stream",
     "text": [
      "Respone Code: 200 | Event Code: 16 | Event: Subscribe or Unsubscribe ok\n",
      "Respone Code: 200 | Event Code: 16 | Event: Subscribe or Unsubscribe ok\n",
      "Respone Code: 200 | Event Code: 16 | Event: Subscribe or Unsubscribe ok\n",
      "MKT/redisrd/TSE/2330 {'Close': [239.5], 'Time': '11:11:42.624718', 'VolSum': [12206], 'Volume': [5]}\n",
      "QUT/redisrd/TSE/2330 {'AskPrice': [240.0, 240.5, 241.0, 241.5, 242.0], 'AskVolume': [1808, 1789, 1645, 582, 1170], 'BidPrice': [239.5, 239.0, 238.5, 238.0, 237.5], 'BidVolume': [204, 765, 389, 475, 359], 'Date': '2019/03/18', 'Time': '11:11:42.624718'}\n",
      "L/TFE/TXFC9 {'Amount': [10466.0], 'AmountSum': [631295113.0], 'AvgPrice': [10465.247302024103], 'Close': [10466.0], 'Code': 'TXFC9', 'Date': '2019/03/18', 'DiffPrice': [53.0], 'DiffRate': [0.508979160664554], 'DiffType': [2], 'High': [10474.0], 'Low': [10420.0], 'Open': 10437.0, 'TargetKindPrice': 10476.09, 'TickType': [2], 'Time': '11:11:44.457000', 'TradeAskVolSum': 29697, 'TradeBidVolSum': 27732, 'VolSum': [60323], 'Volume': [1]}\n",
      "MKT/redisrd/TSE/2330 {'Close': [240.0], 'Time': '11:11:47.643968', 'VolSum': [12208], 'Volume': [2]}\n",
      "QUT/redisrd/TSE/2330 {'AskPrice': [240.0, 240.5, 241.0, 241.5, 242.0], 'AskVolume': [1807, 1791, 1645, 582, 1170], 'BidPrice': [239.5, 239.0, 238.5, 238.0, 237.5], 'BidVolume': [207, 763, 389, 475, 359], 'Date': '2019/03/18', 'Time': '11:11:47.643968'}\n"
     ]
    }
   ],
   "source": [
    "api.quote.subscribe(TXFR1)\n",
    "api.quote.subscribe(TXFR1, quote_type='bidask')\n",
    "api.quote.subscribe(TSE2330)\n",
    "api.quote.subscribe(TSE2330, quote_type='bidask')"
   ]
  },
  {
   "cell_type": "markdown",
   "metadata": {
    "slideshow": {
     "slide_type": "slide"
    }
   },
   "source": [
    "## Account & Portfolio\n",
    "### Account Margin"
   ]
  },
  {
   "cell_type": "code",
   "execution_count": 27,
   "metadata": {
    "slideshow": {
     "slide_type": "fragment"
    }
   },
   "outputs": [
    {
     "data": {
      "text/plain": [
       "\u001b[0;31mSignature:\u001b[0m \u001b[0mapi\u001b[0m\u001b[0;34m.\u001b[0m\u001b[0mget_account_margin\u001b[0m\u001b[0;34m(\u001b[0m\u001b[0mcurrency\u001b[0m\u001b[0;34m=\u001b[0m\u001b[0;34m'NTD'\u001b[0m\u001b[0;34m,\u001b[0m \u001b[0mmargin_type\u001b[0m\u001b[0;34m=\u001b[0m\u001b[0;34m'1'\u001b[0m\u001b[0;34m,\u001b[0m \u001b[0maccount\u001b[0m\u001b[0;34m=\u001b[0m\u001b[0;34m{\u001b[0m\u001b[0;34m}\u001b[0m\u001b[0;34m)\u001b[0m\u001b[0;34m\u001b[0m\u001b[0m\n",
       "\u001b[0;31mDocstring:\u001b[0m\n",
       "query margin    \n",
       "currency:{NTX, USX, NTD, USD, HKD, EUR, JPY, GBP}\n",
       "    the margin calculate in which currency\n",
       "    - NTX: 約當台幣\n",
       "    - USX: 約當美金\n",
       "    - NTD: 新台幣\n",
       "    - USD: 美元\n",
       "    - HKD: 港幣\n",
       "    - EUR: 歐元\n",
       "    - JPY: 日幣\n",
       "    - GBP: 英鎊\n",
       "margin_type: {'1', '2'}\n",
       "    query margin type\n",
       "    - 1 : 即時\n",
       "    - 2 : 風險\n",
       "\u001b[0;31mFile:\u001b[0m       \n",
       "\u001b[0;31mType:\u001b[0m      method\n"
      ]
     },
     "metadata": {},
     "output_type": "display_data"
    }
   ],
   "source": [
    "api.get_account_margin?"
   ]
  },
  {
   "cell_type": "code",
   "execution_count": 21,
   "metadata": {
    "slideshow": {
     "slide_type": "subslide"
    }
   },
   "outputs": [
    {
     "data": {
      "text/plain": [
       "AccountMargin\n",
       "    Currency: NTD\n",
       "    Account: F0020009104000\n",
       "    Detail:\n",
       "        OrderPSecurity: 207000.0\n",
       "        ProfitAccCount: 207000.0\n",
       "        FProfit: 0.0\n",
       "        FMissConProfit: 0.0\n",
       "        OMissConProfit: 0.0\n",
       "        OColse: 0.0\n",
       "        OMarketPrice: 0.0\n",
       "        OTodayDiff: 0.0\n",
       "        HandCharge: 0.0\n",
       "        TradeTax: 0.0\n",
       "        Security: 0.0\n",
       "        StartSecurity: 0.0\n",
       "        UpKeepSecurity: 0.0\n",
       "        Statistics: 99999.0\n",
       "        Flow: 999.0\n",
       "        orderBid: 0.0\n",
       "        orderAsk: 0.0\n",
       "        Conclusionbid: 0.0\n",
       "        Conclusionask: 0.0\n",
       "        YesterdayBalance: 207000.0\n",
       "        PayMoney: 0.0\n",
       "        Equity: 207000.0\n",
       "        Ogain: 0.0\n",
       "        exrate: 1.0\n",
       "        xgdamt: 0.0\n",
       "        agtamt: 0.0\n",
       "        YesterdayEquity: 207000.0\n",
       "        Munet: 0.0\n",
       "        Cashamt: 207000.0\n",
       "        Bapamt: 0.0\n",
       "        Sapamt: 0.0\n",
       "        Adps: 0.0\n",
       "        Adamt: 0.0\n",
       "        Ybaln: 207000.0"
      ]
     },
     "execution_count": 21,
     "metadata": {},
     "output_type": "execute_result"
    }
   ],
   "source": [
    "account_margin = api.get_account_margin()\n",
    "account_margin"
   ]
  },
  {
   "cell_type": "markdown",
   "metadata": {
    "slideshow": {
     "slide_type": "subslide"
    }
   },
   "source": [
    "directly pass our AccountMargin object to pandas to using your model"
   ]
  },
  {
   "cell_type": "code",
   "execution_count": 24,
   "metadata": {
    "slideshow": {
     "slide_type": "fragment"
    }
   },
   "outputs": [
    {
     "data": {
      "text/html": [
       "<div>\n",
       "<style scoped>\n",
       "    .dataframe tbody tr th:only-of-type {\n",
       "        vertical-align: middle;\n",
       "    }\n",
       "\n",
       "    .dataframe tbody tr th {\n",
       "        vertical-align: top;\n",
       "    }\n",
       "\n",
       "    .dataframe thead th {\n",
       "        text-align: right;\n",
       "    }\n",
       "</style>\n",
       "<table border=\"1\" class=\"dataframe\">\n",
       "  <thead>\n",
       "    <tr style=\"text-align: right;\">\n",
       "      <th></th>\n",
       "      <th>Adamt</th>\n",
       "      <th>Adps</th>\n",
       "      <th>Bapamt</th>\n",
       "      <th>Cashamt</th>\n",
       "      <th>Conclusionask</th>\n",
       "      <th>Conclusionbid</th>\n",
       "      <th>Equity</th>\n",
       "      <th>FMissConProfit</th>\n",
       "      <th>FProfit</th>\n",
       "      <th>Flow</th>\n",
       "      <th>...</th>\n",
       "      <th>TradeTax</th>\n",
       "      <th>UpKeepSecurity</th>\n",
       "      <th>Ybaln</th>\n",
       "      <th>YesterdayBalance</th>\n",
       "      <th>YesterdayEquity</th>\n",
       "      <th>agtamt</th>\n",
       "      <th>exrate</th>\n",
       "      <th>orderAsk</th>\n",
       "      <th>orderBid</th>\n",
       "      <th>xgdamt</th>\n",
       "    </tr>\n",
       "  </thead>\n",
       "  <tbody>\n",
       "    <tr>\n",
       "      <th>0</th>\n",
       "      <td>0.0</td>\n",
       "      <td>0.0</td>\n",
       "      <td>0.0</td>\n",
       "      <td>207000.0</td>\n",
       "      <td>0.0</td>\n",
       "      <td>0.0</td>\n",
       "      <td>207000.0</td>\n",
       "      <td>0.0</td>\n",
       "      <td>0.0</td>\n",
       "      <td>999.0</td>\n",
       "      <td>...</td>\n",
       "      <td>0.0</td>\n",
       "      <td>0.0</td>\n",
       "      <td>207000.0</td>\n",
       "      <td>207000.0</td>\n",
       "      <td>207000.0</td>\n",
       "      <td>0.0</td>\n",
       "      <td>1.0</td>\n",
       "      <td>0.0</td>\n",
       "      <td>0.0</td>\n",
       "      <td>0.0</td>\n",
       "    </tr>\n",
       "  </tbody>\n",
       "</table>\n",
       "<p>1 rows × 34 columns</p>\n",
       "</div>"
      ],
      "text/plain": [
       "   Adamt  Adps  Bapamt   Cashamt  Conclusionask  Conclusionbid    Equity  \\\n",
       "0    0.0   0.0     0.0  207000.0            0.0            0.0  207000.0   \n",
       "\n",
       "   FMissConProfit  FProfit   Flow   ...    TradeTax  UpKeepSecurity     Ybaln  \\\n",
       "0             0.0      0.0  999.0   ...         0.0             0.0  207000.0   \n",
       "\n",
       "   YesterdayBalance  YesterdayEquity  agtamt  exrate  orderAsk  orderBid  \\\n",
       "0          207000.0         207000.0     0.0     1.0       0.0       0.0   \n",
       "\n",
       "   xgdamt  \n",
       "0     0.0  \n",
       "\n",
       "[1 rows x 34 columns]"
      ]
     },
     "execution_count": 24,
     "metadata": {},
     "output_type": "execute_result"
    }
   ],
   "source": [
    "df_margin = pd.DataFrame([{**account_margin}])\n",
    "df_margin"
   ]
  },
  {
   "cell_type": "markdown",
   "metadata": {
    "slideshow": {
     "slide_type": "subslide"
    }
   },
   "source": [
    "### Get Open Position"
   ]
  },
  {
   "cell_type": "code",
   "execution_count": 28,
   "metadata": {
    "slideshow": {
     "slide_type": "fragment"
    }
   },
   "outputs": [
    {
     "data": {
      "text/plain": [
       "\u001b[0;31mSignature:\u001b[0m \u001b[0mapi\u001b[0m\u001b[0;34m.\u001b[0m\u001b[0mget_account_openposition\u001b[0m\u001b[0;34m(\u001b[0m\u001b[0mproduct_type\u001b[0m\u001b[0;34m=\u001b[0m\u001b[0;34m'0'\u001b[0m\u001b[0;34m,\u001b[0m \u001b[0mquery_type\u001b[0m\u001b[0;34m=\u001b[0m\u001b[0;34m'0'\u001b[0m\u001b[0;34m,\u001b[0m \u001b[0maccount\u001b[0m\u001b[0;34m=\u001b[0m\u001b[0;34m{\u001b[0m\u001b[0;34m}\u001b[0m\u001b[0;34m)\u001b[0m\u001b[0;34m\u001b[0m\u001b[0m\n",
       "\u001b[0;31mDocstring:\u001b[0m\n",
       "query open position\n",
       "product_type: {0, 1, 2, 3}\n",
       "    filter product type of open position\n",
       "    - 0: all\n",
       "    - 1: future\n",
       "    - 2: option\n",
       "    - 3: usd base\n",
       "query_type: {0, 1}\n",
       "    query return with detail or summary\n",
       "    - 0: detail\n",
       "    - 1: summary\n",
       "\u001b[0;31mFile:\u001b[0m      \n",
       "\u001b[0;31mType:\u001b[0m      method\n"
      ]
     },
     "metadata": {},
     "output_type": "display_data"
    }
   ],
   "source": [
    "api.get_account_openposition?"
   ]
  },
  {
   "cell_type": "code",
   "execution_count": 29,
   "metadata": {
    "slideshow": {
     "slide_type": "fragment"
    }
   },
   "outputs": [
    {
     "data": {
      "text/plain": [
       "AccountOpenPosition"
      ]
     },
     "execution_count": 29,
     "metadata": {},
     "output_type": "execute_result"
    }
   ],
   "source": [
    "positions = api.get_account_openposition(query_type='1', account=api.fut_account)\n",
    "positions"
   ]
  },
  {
   "cell_type": "code",
   "execution_count": 30,
   "metadata": {
    "slideshow": {
     "slide_type": "subslide"
    }
   },
   "outputs": [
    {
     "data": {
      "text/html": [
       "<div>\n",
       "<style scoped>\n",
       "    .dataframe tbody tr th:only-of-type {\n",
       "        vertical-align: middle;\n",
       "    }\n",
       "\n",
       "    .dataframe tbody tr th {\n",
       "        vertical-align: top;\n",
       "    }\n",
       "\n",
       "    .dataframe thead th {\n",
       "        text-align: right;\n",
       "    }\n",
       "</style>\n",
       "<table border=\"1\" class=\"dataframe\">\n",
       "  <thead>\n",
       "    <tr style=\"text-align: right;\">\n",
       "      <th></th>\n",
       "      <th>Account</th>\n",
       "      <th>Code</th>\n",
       "      <th>CodeName</th>\n",
       "      <th>ContractAverPrice</th>\n",
       "      <th>Currency</th>\n",
       "      <th>Date</th>\n",
       "      <th>FlowProfitLoss</th>\n",
       "      <th>MTAMT</th>\n",
       "      <th>OTAMT</th>\n",
       "      <th>OrderBS</th>\n",
       "      <th>OrderNum</th>\n",
       "      <th>OrderType</th>\n",
       "      <th>RealPrice</th>\n",
       "      <th>SettlePrice</th>\n",
       "      <th>SettleProfitLoss</th>\n",
       "      <th>StartSecurity</th>\n",
       "      <th>UpKeepSecurity</th>\n",
       "      <th>Volume</th>\n",
       "      <th>paddingByte</th>\n",
       "    </tr>\n",
       "  </thead>\n",
       "  <tbody>\n",
       "    <tr>\n",
       "      <th>0</th>\n",
       "      <td>FF0020009104000</td>\n",
       "      <td>TXFA9</td>\n",
       "      <td>台指期貨 01</td>\n",
       "      <td>9508.4137</td>\n",
       "      <td>NTD</td>\n",
       "      <td>00000000</td>\n",
       "      <td>4795201.620000</td>\n",
       "      <td>6438000.000000</td>\n",
       "      <td>8352000.000000</td>\n",
       "      <td>B</td>\n",
       "      <td></td>\n",
       "      <td></td>\n",
       "      <td>9784.0</td>\n",
       "      <td>9784.00</td>\n",
       "      <td>4795201.620000</td>\n",
       "      <td>8352000.000000</td>\n",
       "      <td>6438000.000000</td>\n",
       "      <td>87.000000</td>\n",
       "      <td></td>\n",
       "    </tr>\n",
       "    <tr>\n",
       "      <th>1</th>\n",
       "      <td>FF0020009104000</td>\n",
       "      <td>XJFF9</td>\n",
       "      <td>日圓期貨 06</td>\n",
       "      <td>80.0000</td>\n",
       "      <td>JPY</td>\n",
       "      <td>00000000</td>\n",
       "      <td>31400.000000</td>\n",
       "      <td>47000.000000</td>\n",
       "      <td>61000.000000</td>\n",
       "      <td>B</td>\n",
       "      <td></td>\n",
       "      <td></td>\n",
       "      <td>0.0</td>\n",
       "      <td>81.57</td>\n",
       "      <td>31400.000000</td>\n",
       "      <td>61000.000000</td>\n",
       "      <td>47000.000000</td>\n",
       "      <td>1.000000</td>\n",
       "      <td></td>\n",
       "    </tr>\n",
       "    <tr>\n",
       "      <th>2</th>\n",
       "      <td>FF0020009104000</td>\n",
       "      <td>TXO08000L8</td>\n",
       "      <td>台指選擇權 8000 C 12</td>\n",
       "      <td>1870.0000</td>\n",
       "      <td>NTD</td>\n",
       "      <td>00000000</td>\n",
       "      <td>-14000.000000</td>\n",
       "      <td>0.000000</td>\n",
       "      <td>0.000000</td>\n",
       "      <td>B</td>\n",
       "      <td></td>\n",
       "      <td></td>\n",
       "      <td>1730.0</td>\n",
       "      <td>1810.00</td>\n",
       "      <td>-6000.000000</td>\n",
       "      <td>0.000000</td>\n",
       "      <td>0.000000</td>\n",
       "      <td>2.000000</td>\n",
       "      <td></td>\n",
       "    </tr>\n",
       "    <tr>\n",
       "      <th>3</th>\n",
       "      <td>FF0020009104000</td>\n",
       "      <td>TXO09200L8</td>\n",
       "      <td>台指選擇權 9200 C 12</td>\n",
       "      <td>720.0000</td>\n",
       "      <td>NTD</td>\n",
       "      <td>00000000</td>\n",
       "      <td>11250.000000</td>\n",
       "      <td>147000.000000</td>\n",
       "      <td>162000.000000</td>\n",
       "      <td>S</td>\n",
       "      <td></td>\n",
       "      <td></td>\n",
       "      <td>645.0</td>\n",
       "      <td>660.00</td>\n",
       "      <td>9000.000000</td>\n",
       "      <td>162000.000000</td>\n",
       "      <td>147000.000000</td>\n",
       "      <td>3.000000</td>\n",
       "      <td></td>\n",
       "    </tr>\n",
       "    <tr>\n",
       "      <th>4</th>\n",
       "      <td>FF0020009104000</td>\n",
       "      <td>TXO09400X8</td>\n",
       "      <td>台指選擇權 9400 P 12</td>\n",
       "      <td>199.0000</td>\n",
       "      <td>NTD</td>\n",
       "      <td>00000000</td>\n",
       "      <td>21200.000000</td>\n",
       "      <td>57600.000000</td>\n",
       "      <td>65600.000000</td>\n",
       "      <td>S</td>\n",
       "      <td></td>\n",
       "      <td></td>\n",
       "      <td>93.0</td>\n",
       "      <td>93.00</td>\n",
       "      <td>21200.000000</td>\n",
       "      <td>65600.000000</td>\n",
       "      <td>57600.000000</td>\n",
       "      <td>4.000000</td>\n",
       "      <td></td>\n",
       "    </tr>\n",
       "    <tr>\n",
       "      <th>5</th>\n",
       "      <td>FF0020009104000</td>\n",
       "      <td>TXO10200L8</td>\n",
       "      <td>台指選擇權 10200 C 12</td>\n",
       "      <td>111.0000</td>\n",
       "      <td>NTD</td>\n",
       "      <td>00000000</td>\n",
       "      <td>33550.000000</td>\n",
       "      <td>125950.000000</td>\n",
       "      <td>147950.000000</td>\n",
       "      <td>S</td>\n",
       "      <td></td>\n",
       "      <td></td>\n",
       "      <td>50.0</td>\n",
       "      <td>50.00</td>\n",
       "      <td>33550.000000</td>\n",
       "      <td>147950.000000</td>\n",
       "      <td>125950.000000</td>\n",
       "      <td>11.000000</td>\n",
       "      <td></td>\n",
       "    </tr>\n",
       "  </tbody>\n",
       "</table>\n",
       "</div>"
      ],
      "text/plain": [
       "           Account        Code          CodeName  ContractAverPrice Currency  \\\n",
       "0  FF0020009104000       TXFA9           台指期貨 01          9508.4137      NTD   \n",
       "1  FF0020009104000       XJFF9           日圓期貨 06            80.0000      JPY   \n",
       "2  FF0020009104000  TXO08000L8   台指選擇權 8000 C 12          1870.0000      NTD   \n",
       "3  FF0020009104000  TXO09200L8   台指選擇權 9200 C 12           720.0000      NTD   \n",
       "4  FF0020009104000  TXO09400X8   台指選擇權 9400 P 12           199.0000      NTD   \n",
       "5  FF0020009104000  TXO10200L8  台指選擇權 10200 C 12           111.0000      NTD   \n",
       "\n",
       "       Date  FlowProfitLoss           MTAMT           OTAMT OrderBS OrderNum  \\\n",
       "0  00000000  4795201.620000  6438000.000000  8352000.000000       B            \n",
       "1  00000000    31400.000000    47000.000000    61000.000000       B            \n",
       "2  00000000   -14000.000000        0.000000        0.000000       B            \n",
       "3  00000000    11250.000000   147000.000000   162000.000000       S            \n",
       "4  00000000    21200.000000    57600.000000    65600.000000       S            \n",
       "5  00000000    33550.000000   125950.000000   147950.000000       S            \n",
       "\n",
       "  OrderType  RealPrice  SettlePrice SettleProfitLoss   StartSecurity  \\\n",
       "0               9784.0      9784.00   4795201.620000  8352000.000000   \n",
       "1                  0.0        81.57     31400.000000    61000.000000   \n",
       "2               1730.0      1810.00     -6000.000000        0.000000   \n",
       "3                645.0       660.00      9000.000000   162000.000000   \n",
       "4                 93.0        93.00     21200.000000    65600.000000   \n",
       "5                 50.0        50.00     33550.000000   147950.000000   \n",
       "\n",
       "   UpKeepSecurity     Volume paddingByte  \n",
       "0  6438000.000000  87.000000              \n",
       "1    47000.000000   1.000000              \n",
       "2        0.000000   2.000000              \n",
       "3   147000.000000   3.000000              \n",
       "4    57600.000000   4.000000              \n",
       "5   125950.000000  11.000000              "
      ]
     },
     "execution_count": 30,
     "metadata": {},
     "output_type": "execute_result"
    }
   ],
   "source": [
    "df_positions = pd.DataFrame(positions.data())\n",
    "df_positions"
   ]
  },
  {
   "cell_type": "markdown",
   "metadata": {
    "slideshow": {
     "slide_type": "subslide"
    }
   },
   "source": [
    "### Get Settle ProfitLoss"
   ]
  },
  {
   "cell_type": "code",
   "execution_count": 31,
   "metadata": {
    "slideshow": {
     "slide_type": "fragment"
    }
   },
   "outputs": [
    {
     "data": {
      "text/plain": [
       "\u001b[0;31mSignature:\u001b[0m \u001b[0mapi\u001b[0m\u001b[0;34m.\u001b[0m\u001b[0mget_account_settle_profitloss\u001b[0m\u001b[0;34m(\u001b[0m\u001b[0mproduct_type\u001b[0m\u001b[0;34m=\u001b[0m\u001b[0;34m'0'\u001b[0m\u001b[0;34m,\u001b[0m \u001b[0msummary\u001b[0m\u001b[0;34m=\u001b[0m\u001b[0;34m'Y'\u001b[0m\u001b[0;34m,\u001b[0m \u001b[0mstart_date\u001b[0m\u001b[0;34m=\u001b[0m\u001b[0;34m''\u001b[0m\u001b[0;34m,\u001b[0m \u001b[0mend_date\u001b[0m\u001b[0;34m=\u001b[0m\u001b[0;34m''\u001b[0m\u001b[0;34m,\u001b[0m \u001b[0mcurrency\u001b[0m\u001b[0;34m=\u001b[0m\u001b[0;34m''\u001b[0m\u001b[0;34m,\u001b[0m \u001b[0maccount\u001b[0m\u001b[0;34m=\u001b[0m\u001b[0;34m{\u001b[0m\u001b[0;34m}\u001b[0m\u001b[0;34m)\u001b[0m\u001b[0;34m\u001b[0m\u001b[0m\n",
       "\u001b[0;31mDocstring:\u001b[0m\n",
       "query settlement profit loss\n",
       "product_type: {0, 1, 2}\n",
       "    filter product type of open position\n",
       "    - 0: all\n",
       "    - 1: future\n",
       "    - 2: option\n",
       "summary: {Y, N}\n",
       "    query return with detail or summary\n",
       "    - Y: summary\n",
       "    - N: detail\n",
       "start_date: str\n",
       "    the start date of query range format with %Y%m%d\n",
       "    ex: 20180101\n",
       "end_date: str\n",
       "    the end date of query range format with %Y%m%d\n",
       "    ex: 20180201\n",
       "currency: {NTD, USD, HKD, EUR, CAD, BAS}\n",
       "    the profit loss calculate in which currency\n",
       "    - NTD: 新台幣\n",
       "    - USD: 美元\n",
       "    - HKD: 港幣\n",
       "    - EUR: 歐元\n",
       "    - CAD: 加幣 \n",
       "    - BAS: 基幣\n",
       "\u001b[0;31mFile:\u001b[0m      \n",
       "\u001b[0;31mType:\u001b[0m      method\n"
      ]
     },
     "metadata": {},
     "output_type": "display_data"
    }
   ],
   "source": [
    "api.get_account_settle_profitloss?"
   ]
  },
  {
   "cell_type": "code",
   "execution_count": 40,
   "metadata": {
    "slideshow": {
     "slide_type": "subslide"
    }
   },
   "outputs": [
    {
     "data": {
      "text/plain": [
       "AccountSettleProfitLoss"
      ]
     },
     "execution_count": 40,
     "metadata": {},
     "output_type": "execute_result"
    }
   ],
   "source": [
    "st_date = (date.today() - timedelta(days=60)).strftime('%Y%m%d')\n",
    "settle_profitloss = api.get_account_settle_profitloss(summary='Y', start_date=st_date)\n",
    "settle_profitloss"
   ]
  },
  {
   "cell_type": "code",
   "execution_count": 41,
   "metadata": {
    "slideshow": {
     "slide_type": "fragment"
    }
   },
   "outputs": [
    {
     "data": {
      "text/html": [
       "<div>\n",
       "<style scoped>\n",
       "    .dataframe tbody tr th:only-of-type {\n",
       "        vertical-align: middle;\n",
       "    }\n",
       "\n",
       "    .dataframe tbody tr th {\n",
       "        vertical-align: top;\n",
       "    }\n",
       "\n",
       "    .dataframe thead th {\n",
       "        text-align: right;\n",
       "    }\n",
       "</style>\n",
       "<table border=\"1\" class=\"dataframe\">\n",
       "  <thead>\n",
       "    <tr style=\"text-align: right;\">\n",
       "      <th></th>\n",
       "      <th>account</th>\n",
       "      <th>averagePrice</th>\n",
       "      <th>code</th>\n",
       "      <th>codeName</th>\n",
       "      <th>currency</th>\n",
       "      <th>floatProfitLoss</th>\n",
       "      <th>handCharge</th>\n",
       "      <th>ord_bs</th>\n",
       "      <th>ord_type</th>\n",
       "      <th>ordno</th>\n",
       "      <th>ordno_b</th>\n",
       "      <th>settleAvgPrc</th>\n",
       "      <th>settleDate</th>\n",
       "      <th>settleVolume</th>\n",
       "      <th>tFlag</th>\n",
       "      <th>tdate</th>\n",
       "      <th>tradeProfitLoss</th>\n",
       "      <th>tradeTax</th>\n",
       "      <th>unVolume</th>\n",
       "      <th>volume</th>\n",
       "    </tr>\n",
       "  </thead>\n",
       "  <tbody>\n",
       "    <tr>\n",
       "      <th>0</th>\n",
       "      <td>F0020009104000</td>\n",
       "      <td>9900.0</td>\n",
       "      <td>TXFK8</td>\n",
       "      <td>台指期貨 11</td>\n",
       "      <td>NTD</td>\n",
       "      <td>460.000000</td>\n",
       "      <td>60.000000</td>\n",
       "      <td>S</td>\n",
       "      <td>00</td>\n",
       "      <td>kY002</td>\n",
       "      <td>kY003</td>\n",
       "      <td>9897.0</td>\n",
       "      <td>20181022</td>\n",
       "      <td>1.000000</td>\n",
       "      <td>1</td>\n",
       "      <td>20181022</td>\n",
       "      <td>600.000000</td>\n",
       "      <td>80.000000</td>\n",
       "      <td>0.000000</td>\n",
       "      <td>1.000000</td>\n",
       "    </tr>\n",
       "  </tbody>\n",
       "</table>\n",
       "</div>"
      ],
      "text/plain": [
       "          account  averagePrice   code codeName currency floatProfitLoss  \\\n",
       "0  F0020009104000        9900.0  TXFK8  台指期貨 11      NTD      460.000000   \n",
       "\n",
       "  handCharge ord_bs ord_type  ordno ordno_b  settleAvgPrc settleDate  \\\n",
       "0  60.000000      S       00  kY002   kY003        9897.0   20181022   \n",
       "\n",
       "  settleVolume tFlag     tdate tradeProfitLoss   tradeTax  unVolume    volume  \n",
       "0     1.000000     1  20181022      600.000000  80.000000  0.000000  1.000000  "
      ]
     },
     "execution_count": 41,
     "metadata": {},
     "output_type": "execute_result"
    }
   ],
   "source": [
    "df_profitloss = pd.DataFrame(settle_profitloss.data())\n",
    "df_profitloss"
   ]
  },
  {
   "cell_type": "markdown",
   "metadata": {
    "slideshow": {
     "slide_type": "slide"
    }
   },
   "source": [
    "## Communication\n",
    "[![Gitter](https://badges.gitter.im/Sinotrade/Shioaji.svg)](https://gitter.im/Sinotrade/Shioaji?utm_source=badge&utm_medium=badge&utm_campaign=pr-badge)\n",
    "- Gitter: general chat, online discussions, collaboration etc.\n",
    "- GitHub issues: bug reports, feature requests, install issues, RFCs, thoughts, etc."
   ]
  },
  {
   "cell_type": "markdown",
   "metadata": {
    "slideshow": {
     "slide_type": "slide"
    }
   },
   "source": [
    "## Releases and Contributing\n",
    "Shioaji current state is Pre-Alpha, we expect no obvious bugs. Please let us know if you encounter a bug by [filing an issue](https://github.com/Sinotrade/Shioaji/issues).\n",
    "\n",
    "We appreciate all suggestions. If you have any idea want us to implement, please discuss with us in gitter."
   ]
  },
  {
   "cell_type": "markdown",
   "metadata": {
    "slideshow": {
     "slide_type": "slide"
    }
   },
   "source": [
    "## The Team\n",
    "Shioaji is currently maintained by [Yvictor](https://github.com/Yvictor), [TK Huang](https://github.com/TKHuang), [Sky Wu](https://github.com/strangenaiad) and [Po Chien Yang](https://github.com/ypochien) with major contributions."
   ]
  }
 ],
 "metadata": {
  "celltoolbar": "Slideshow",
  "kernelspec": {
   "display_name": "Python 3",
   "language": "python",
   "name": "python3"
  },
  "language_info": {
   "codemirror_mode": {
    "name": "ipython",
    "version": 3
   },
   "file_extension": ".py",
   "mimetype": "text/x-python",
   "name": "python",
   "nbconvert_exporter": "python",
   "pygments_lexer": "ipython3",
   "version": "3.6.6"
  }
 },
 "nbformat": 4,
 "nbformat_minor": 2
}
